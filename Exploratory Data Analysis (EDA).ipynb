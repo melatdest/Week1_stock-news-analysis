{
 "cells": [
  {
   "cell_type": "markdown",
   "id": "7d390338-08e5-4308-b017-ca2571a2e174",
   "metadata": {},
   "source": [
    "Install Required Libraries"
   ]
  },
  {
   "cell_type": "code",
   "execution_count": 16,
   "id": "85b977f8-c60c-4041-8699-a4b77616f7e3",
   "metadata": {},
   "outputs": [
    {
     "name": "stdout",
     "output_type": "stream",
     "text": [
      "Requirement already satisfied: pandas in c:\\users\\user\\anaconda3\\lib\\site-packages (2.2.2)\n",
      "Requirement already satisfied: numpy in c:\\users\\user\\anaconda3\\lib\\site-packages (1.26.4)\n",
      "Requirement already satisfied: matplotlib in c:\\users\\user\\anaconda3\\lib\\site-packages (3.8.4)\n",
      "Requirement already satisfied: seaborn in c:\\users\\user\\anaconda3\\lib\\site-packages (0.13.2)\n",
      "Requirement already satisfied: nltk in c:\\users\\user\\anaconda3\\lib\\site-packages (3.8.1)\n",
      "Collecting textblob\n",
      "  Using cached textblob-0.18.0.post0-py3-none-any.whl.metadata (4.5 kB)\n",
      "Collecting TA-Lib\n",
      "  Using cached TA-Lib-0.5.1.tar.gz (369 kB)\n",
      "  Installing build dependencies: started\n",
      "  Installing build dependencies: finished with status 'done'\n",
      "  Getting requirements to build wheel: started\n",
      "  Getting requirements to build wheel: finished with status 'done'\n",
      "  Preparing metadata (pyproject.toml): started\n",
      "  Preparing metadata (pyproject.toml): finished with status 'done'\n",
      "Collecting pynance\n",
      "  Using cached pynance-1.0.0-py3-none-any.whl.metadata (1.2 kB)\n",
      "Requirement already satisfied: python-dateutil>=2.8.2 in c:\\users\\user\\anaconda3\\lib\\site-packages (from pandas) (2.9.0.post0)\n",
      "Requirement already satisfied: pytz>=2020.1 in c:\\users\\user\\anaconda3\\lib\\site-packages (from pandas) (2024.1)\n",
      "Requirement already satisfied: tzdata>=2022.7 in c:\\users\\user\\anaconda3\\lib\\site-packages (from pandas) (2023.3)\n",
      "Requirement already satisfied: contourpy>=1.0.1 in c:\\users\\user\\anaconda3\\lib\\site-packages (from matplotlib) (1.2.0)\n",
      "Requirement already satisfied: cycler>=0.10 in c:\\users\\user\\anaconda3\\lib\\site-packages (from matplotlib) (0.11.0)\n",
      "Requirement already satisfied: fonttools>=4.22.0 in c:\\users\\user\\anaconda3\\lib\\site-packages (from matplotlib) (4.51.0)\n",
      "Requirement already satisfied: kiwisolver>=1.3.1 in c:\\users\\user\\anaconda3\\lib\\site-packages (from matplotlib) (1.4.4)\n",
      "Requirement already satisfied: packaging>=20.0 in c:\\users\\user\\anaconda3\\lib\\site-packages (from matplotlib) (23.2)\n",
      "Requirement already satisfied: pillow>=8 in c:\\users\\user\\anaconda3\\lib\\site-packages (from matplotlib) (10.3.0)\n",
      "Requirement already satisfied: pyparsing>=2.3.1 in c:\\users\\user\\anaconda3\\lib\\site-packages (from matplotlib) (3.0.9)\n",
      "Requirement already satisfied: click in c:\\users\\user\\anaconda3\\lib\\site-packages (from nltk) (8.1.7)\n",
      "Requirement already satisfied: joblib in c:\\users\\user\\anaconda3\\lib\\site-packages (from nltk) (1.4.2)\n",
      "Requirement already satisfied: regex>=2021.8.3 in c:\\users\\user\\anaconda3\\lib\\site-packages (from nltk) (2023.10.3)\n",
      "Requirement already satisfied: tqdm in c:\\users\\user\\anaconda3\\lib\\site-packages (from nltk) (4.66.4)\n",
      "Collecting pandas-datareader>=0.9.0 (from pynance)\n",
      "  Using cached pandas_datareader-0.10.0-py3-none-any.whl.metadata (2.9 kB)\n",
      "Collecting mplfinance (from pynance)\n",
      "  Using cached mplfinance-0.12.10b0-py3-none-any.whl.metadata (19 kB)\n",
      "Requirement already satisfied: lxml in c:\\users\\user\\anaconda3\\lib\\site-packages (from pandas-datareader>=0.9.0->pynance) (5.2.1)\n",
      "Requirement already satisfied: requests>=2.19.0 in c:\\users\\user\\anaconda3\\lib\\site-packages (from pandas-datareader>=0.9.0->pynance) (2.32.2)\n",
      "Requirement already satisfied: six>=1.5 in c:\\users\\user\\anaconda3\\lib\\site-packages (from python-dateutil>=2.8.2->pandas) (1.16.0)\n",
      "Requirement already satisfied: colorama in c:\\users\\user\\anaconda3\\lib\\site-packages (from click->nltk) (0.4.6)\n",
      "Requirement already satisfied: charset-normalizer<4,>=2 in c:\\users\\user\\anaconda3\\lib\\site-packages (from requests>=2.19.0->pandas-datareader>=0.9.0->pynance) (2.0.4)\n",
      "Requirement already satisfied: idna<4,>=2.5 in c:\\users\\user\\anaconda3\\lib\\site-packages (from requests>=2.19.0->pandas-datareader>=0.9.0->pynance) (3.7)\n",
      "Requirement already satisfied: urllib3<3,>=1.21.1 in c:\\users\\user\\anaconda3\\lib\\site-packages (from requests>=2.19.0->pandas-datareader>=0.9.0->pynance) (2.2.2)\n",
      "Requirement already satisfied: certifi>=2017.4.17 in c:\\users\\user\\anaconda3\\lib\\site-packages (from requests>=2.19.0->pandas-datareader>=0.9.0->pynance) (2024.8.30)\n",
      "Using cached textblob-0.18.0.post0-py3-none-any.whl (626 kB)\n",
      "Using cached pynance-1.0.0-py3-none-any.whl (42 kB)\n",
      "Using cached pandas_datareader-0.10.0-py3-none-any.whl (109 kB)\n",
      "Using cached mplfinance-0.12.10b0-py3-none-any.whl (75 kB)\n",
      "Building wheels for collected packages: TA-Lib\n",
      "  Building wheel for TA-Lib (pyproject.toml): started\n",
      "  Building wheel for TA-Lib (pyproject.toml): finished with status 'error'\n",
      "Failed to build TA-Lib\n"
     ]
    },
    {
     "name": "stderr",
     "output_type": "stream",
     "text": [
      "  error: subprocess-exited-with-error\n",
      "  \n",
      "  Building wheel for TA-Lib (pyproject.toml) did not run successfully.\n",
      "  exit code: 1\n",
      "  \n",
      "  [28 lines of output]\n",
      "  <string>:75: UserWarning: Cannot find ta-lib library, installation may fail.\n",
      "  running bdist_wheel\n",
      "  running build\n",
      "  running build_py\n",
      "  creating build\\lib.win-amd64-cpython-312\\talib\n",
      "  copying talib\\abstract.py -> build\\lib.win-amd64-cpython-312\\talib\n",
      "  copying talib\\deprecated.py -> build\\lib.win-amd64-cpython-312\\talib\n",
      "  copying talib\\stream.py -> build\\lib.win-amd64-cpython-312\\talib\n",
      "  copying talib\\__init__.py -> build\\lib.win-amd64-cpython-312\\talib\n",
      "  running egg_info\n",
      "  writing ta_lib.egg-info\\PKG-INFO\n",
      "  writing dependency_links to ta_lib.egg-info\\dependency_links.txt\n",
      "  writing requirements to ta_lib.egg-info\\requires.txt\n",
      "  writing top-level names to ta_lib.egg-info\\top_level.txt\n",
      "  reading manifest file 'ta_lib.egg-info\\SOURCES.txt'\n",
      "  reading manifest template 'MANIFEST.in'\n",
      "  adding license file 'LICENSE'\n",
      "  adding license file 'AUTHORS'\n",
      "  writing manifest file 'ta_lib.egg-info\\SOURCES.txt'\n",
      "  copying talib\\_abstract.pxi -> build\\lib.win-amd64-cpython-312\\talib\n",
      "  copying talib\\_common.pxi -> build\\lib.win-amd64-cpython-312\\talib\n",
      "  copying talib\\_func.pxi -> build\\lib.win-amd64-cpython-312\\talib\n",
      "  copying talib\\_stream.pxi -> build\\lib.win-amd64-cpython-312\\talib\n",
      "  copying talib\\_ta_lib.c -> build\\lib.win-amd64-cpython-312\\talib\n",
      "  copying talib\\_ta_lib.pyx -> build\\lib.win-amd64-cpython-312\\talib\n",
      "  running build_ext\n",
      "  building 'talib._ta_lib' extension\n",
      "  error: Microsoft Visual C++ 14.0 or greater is required. Get it with \"Microsoft C++ Build Tools\": https://visualstudio.microsoft.com/visual-cpp-build-tools/\n",
      "  [end of output]\n",
      "  \n",
      "  note: This error originates from a subprocess, and is likely not a problem with pip.\n",
      "  ERROR: Failed building wheel for TA-Lib\n",
      "ERROR: Could not build wheels for TA-Lib, which is required to install pyproject.toml-based projects\n"
     ]
    }
   ],
   "source": [
    "# Install necessary libraries\n",
    "!pip install pandas numpy matplotlib seaborn nltk textblob TA-Lib pynance"
   ]
  },
  {
   "cell_type": "markdown",
   "id": "30235de9-a8da-48de-98eb-7c8b49717c3b",
   "metadata": {},
   "source": [
    "Initialize Notebook\n",
    "Set up imports and environment variables."
   ]
  },
  {
   "cell_type": "code",
   "execution_count": 17,
   "id": "b8210534-90cc-4d71-88c8-7f194e946de1",
   "metadata": {},
   "outputs": [
    {
     "ename": "ModuleNotFoundError",
     "evalue": "No module named 'textblob'",
     "output_type": "error",
     "traceback": [
      "\u001b[1;31m---------------------------------------------------------------------------\u001b[0m",
      "\u001b[1;31mModuleNotFoundError\u001b[0m                       Traceback (most recent call last)",
      "Cell \u001b[1;32mIn[17], line 7\u001b[0m\n\u001b[0;32m      5\u001b[0m \u001b[38;5;28;01mimport\u001b[39;00m \u001b[38;5;21;01mnltk\u001b[39;00m\n\u001b[0;32m      6\u001b[0m \u001b[38;5;28;01mfrom\u001b[39;00m \u001b[38;5;21;01mnltk\u001b[39;00m\u001b[38;5;21;01m.\u001b[39;00m\u001b[38;5;21;01msentiment\u001b[39;00m \u001b[38;5;28;01mimport\u001b[39;00m SentimentIntensityAnalyzer\n\u001b[1;32m----> 7\u001b[0m \u001b[38;5;28;01mfrom\u001b[39;00m \u001b[38;5;21;01mtextblob\u001b[39;00m \u001b[38;5;28;01mimport\u001b[39;00m TextBlob\n\u001b[0;32m      8\u001b[0m \u001b[38;5;28;01mimport\u001b[39;00m \u001b[38;5;21;01mtalib\u001b[39;00m\n",
      "\u001b[1;31mModuleNotFoundError\u001b[0m: No module named 'textblob'"
     ]
    }
   ],
   "source": [
    "import pandas as pd\n",
    "import numpy as np\n",
    "import matplotlib.pyplot as plt\n",
    "import seaborn as sns\n",
    "import nltk\n",
    "from nltk.sentiment import SentimentIntensityAnalyzer\n",
    "from textblob import TextBlob\n",
    "import talib"
   ]
  },
  {
   "cell_type": "markdown",
   "id": "a8e308f1-9256-4b69-a126-a4b8faf6cb40",
   "metadata": {},
   "source": [
    "Task 1: Data Understanding & Exploratory Data Analysis (EDA)\n",
    "Load the Dataset"
   ]
  },
  {
   "cell_type": "code",
   "execution_count": 26,
   "id": "1678b162-2083-476f-a384-11e8886ee818",
   "metadata": {},
   "outputs": [],
   "source": [
    "# Load financial news dataset\n",
    "data_analyst_ratings = pd.read_csv(\"raw_analyst_ratings.csv\")\n",
    "data_aapl = pd.read_csv(\"AAPL_historical_data.csv\")\n",
    "data_amzn = pd.read_csv(\"AMZN_historical_data.csv\")\n",
    "data_meta = pd.read_csv(\"META_historical_data.csv\")\n",
    "data_goog = pd.read_csv(\"GOOG_historical_data.csv\")\n",
    "data_nvda = pd.read_csv(\"NVDA_historical_data.csv\")\n",
    "data_tsla = pd.read_csv(\"TSLA_historical_data.csv\")\n",
    "data_msft = pd.read_csv(\"MSFT_historical_data.csv\")"
   ]
  },
  {
   "cell_type": "markdown",
   "id": "e4372977-fda8-40ae-b797-23d9a6d44733",
   "metadata": {},
   "source": [
    "2. Use a Dictionary for Clean Management\n",
    "To make it easier to handle multiple datasets, load them into a dictionary:"
   ]
  },
  {
   "cell_type": "code",
   "execution_count": 28,
   "id": "25377837-7a93-4abd-88c2-2b62ff619a54",
   "metadata": {},
   "outputs": [
    {
     "name": "stdout",
     "output_type": "stream",
     "text": [
      "         Date      Open      High       Low     Close  Adj Close     Volume  \\\n",
      "0  1980-12-12  0.128348  0.128906  0.128348  0.128348   0.098943  469033600   \n",
      "1  1980-12-15  0.122210  0.122210  0.121652  0.121652   0.093781  175884800   \n",
      "2  1980-12-16  0.113281  0.113281  0.112723  0.112723   0.086898  105728000   \n",
      "3  1980-12-17  0.115513  0.116071  0.115513  0.115513   0.089049   86441600   \n",
      "4  1980-12-18  0.118862  0.119420  0.118862  0.118862   0.091630   73449600   \n",
      "\n",
      "   Dividends  Stock Splits  \n",
      "0        0.0           0.0  \n",
      "1        0.0           0.0  \n",
      "2        0.0           0.0  \n",
      "3        0.0           0.0  \n",
      "4        0.0           0.0  \n"
     ]
    }
   ],
   "source": [
    "# Define a dictionary to store the datasets\n",
    "datasets = {\n",
    "    \"analyst_ratings\": \"raw_analyst_ratings.csv\",\n",
    "    \"AAPL\": \"AAPL_historical_data.csv\",\n",
    "    \"AMZN\": \"AMZN_historical_data.csv\",\n",
    "    \"META\": \"META_historical_data.csv\",\n",
    "    \"GOOG\": \"GOOG_historical_data.csv\",\n",
    "    \"NVDA\": \"NVDA_historical_data.csv\",\n",
    "    \"TSLA\": \"TSLA_historical_data.csv\",\n",
    "    \"MSFT\": \"MSFT_historical_data.csv\"\n",
    "}\n",
    "\n",
    "# Load datasets into the dictionary\n",
    "dataframes = {name: pd.read_csv(file) for name, file in datasets.items()}\n",
    "\n",
    "# Access each dataset by its name\n",
    "print(dataframes[\"AAPL\"].head())  # Print first 5 rows of AAPL data"
   ]
  },
  {
   "cell_type": "code",
   "execution_count": 34,
   "id": "13c0c356-7fa8-4df2-9f11-9e9f18167750",
   "metadata": {},
   "outputs": [
    {
     "name": "stdout",
     "output_type": "stream",
     "text": [
      "         Date      Open      High       Low     Close  Adj Close      Volume  \\\n",
      "0  1997-05-15  0.121875  0.125000  0.096354  0.097917   0.097917  1443120000   \n",
      "1  1997-05-16  0.098438  0.098958  0.085417  0.086458   0.086458   294000000   \n",
      "2  1997-05-19  0.088021  0.088542  0.081250  0.085417   0.085417   122136000   \n",
      "3  1997-05-20  0.086458  0.087500  0.081771  0.081771   0.081771   109344000   \n",
      "4  1997-05-21  0.081771  0.082292  0.068750  0.071354   0.071354   377064000   \n",
      "\n",
      "   Dividends  Stock Splits  \n",
      "0        0.0           0.0  \n",
      "1        0.0           0.0  \n",
      "2        0.0           0.0  \n",
      "3        0.0           0.0  \n",
      "4        0.0           0.0  \n"
     ]
    }
   ],
   "source": [
    "# Access each dataset by its name\n",
    "print(dataframes[\"AMZN\"].head())  # Print first 5 rows of AAPL data"
   ]
  },
  {
   "cell_type": "code",
   "execution_count": 36,
   "id": "53862aef-599a-4c79-9dac-90893bee2762",
   "metadata": {},
   "outputs": [
    {
     "name": "stdout",
     "output_type": "stream",
     "text": [
      "         Date       Open       High        Low      Close  Adj Close  \\\n",
      "0  2012-12-12  28.000000  28.139999  27.370001  27.580000  27.523441   \n",
      "1  2012-12-13  27.590000  28.750000  27.430000  28.240000  28.182087   \n",
      "2  2012-12-14  28.180000  28.330000  26.760000  26.809999  26.755020   \n",
      "3  2012-12-17  26.770000  27.000000  26.320000  26.750000  26.695143   \n",
      "4  2012-12-18  26.959999  27.910000  26.900000  27.709999  27.653173   \n",
      "\n",
      "     Volume  Dividends  Stock Splits  \n",
      "0  46704200        0.0           0.0  \n",
      "1  81051600        0.0           0.0  \n",
      "2  91631600        0.0           0.0  \n",
      "3  57742500        0.0           0.0  \n",
      "4  60512900        0.0           0.0  \n"
     ]
    }
   ],
   "source": [
    "# Access each dataset by its name\n",
    "print(dataframes[\"META\"].head())  # Print first 5 rows of METAdata"
   ]
  },
  {
   "cell_type": "code",
   "execution_count": 38,
   "id": "5e030a70-0b28-4f27-a76e-a2d1d8c85cda",
   "metadata": {},
   "outputs": [
    {
     "name": "stdout",
     "output_type": "stream",
     "text": [
      "         Date      Open      High       Low     Close  Adj Close     Volume  \\\n",
      "0  2004-08-19  2.490664  2.591785  2.390042  2.499133   2.496292  897427216   \n",
      "1  2004-08-20  2.515820  2.716817  2.503118  2.697639   2.694573  458857488   \n",
      "2  2004-08-23  2.758411  2.826406  2.716070  2.724787   2.721690  366857939   \n",
      "3  2004-08-24  2.770615  2.779581  2.579581  2.611960   2.608991  306396159   \n",
      "4  2004-08-25  2.614201  2.689918  2.587302  2.640104   2.637103  184645512   \n",
      "\n",
      "   Dividends  Stock Splits  \n",
      "0        0.0           0.0  \n",
      "1        0.0           0.0  \n",
      "2        0.0           0.0  \n",
      "3        0.0           0.0  \n",
      "4        0.0           0.0  \n"
     ]
    }
   ],
   "source": [
    "# Access each dataset by its name\n",
    "print(dataframes[\"GOOG\"].head())  # Print first 5 rows of GOOG data"
   ]
  },
  {
   "cell_type": "code",
   "execution_count": 40,
   "id": "632217a5-c16d-47ca-abd4-01584d291e67",
   "metadata": {},
   "outputs": [
    {
     "name": "stdout",
     "output_type": "stream",
     "text": [
      "         Date      Open      High       Low     Close  Adj Close      Volume  \\\n",
      "0  1999-01-22  0.043750  0.048828  0.038802  0.041016   0.037621  2714688000   \n",
      "1  1999-01-25  0.044271  0.045833  0.041016  0.045313   0.041562   510480000   \n",
      "2  1999-01-26  0.045833  0.046745  0.041146  0.041797   0.038337   343200000   \n",
      "3  1999-01-27  0.041927  0.042969  0.039583  0.041667   0.038218   244368000   \n",
      "4  1999-01-28  0.041667  0.041927  0.041276  0.041536   0.038098   227520000   \n",
      "\n",
      "   Dividends  Stock Splits  \n",
      "0        0.0           0.0  \n",
      "1        0.0           0.0  \n",
      "2        0.0           0.0  \n",
      "3        0.0           0.0  \n",
      "4        0.0           0.0  \n"
     ]
    }
   ],
   "source": [
    "# Access each dataset by its name\n",
    "print(dataframes[\"NVDA\"].head())  # Print first 5 rows of NVDA data"
   ]
  },
  {
   "cell_type": "code",
   "execution_count": 42,
   "id": "540f8d0b-4451-45c1-ae52-f0366c07f811",
   "metadata": {},
   "outputs": [
    {
     "name": "stdout",
     "output_type": "stream",
     "text": [
      "         Date      Open      High       Low     Close  Adj Close     Volume  \\\n",
      "0  2010-06-29  1.266667  1.666667  1.169333  1.592667   1.592667  281494500   \n",
      "1  2010-06-30  1.719333  2.028000  1.553333  1.588667   1.588667  257806500   \n",
      "2  2010-07-01  1.666667  1.728000  1.351333  1.464000   1.464000  123282000   \n",
      "3  2010-07-02  1.533333  1.540000  1.247333  1.280000   1.280000   77097000   \n",
      "4  2010-07-06  1.333333  1.333333  1.055333  1.074000   1.074000  103003500   \n",
      "\n",
      "   Dividends  Stock Splits  \n",
      "0        0.0           0.0  \n",
      "1        0.0           0.0  \n",
      "2        0.0           0.0  \n",
      "3        0.0           0.0  \n",
      "4        0.0           0.0  \n"
     ]
    }
   ],
   "source": [
    "# Access each dataset by its name\n",
    "print(dataframes[\"TSLA\"].head())  # Print first 5 rows of TSLA data"
   ]
  },
  {
   "cell_type": "code",
   "execution_count": 44,
   "id": "18841f46-c580-4637-8f7b-b14e3d330a0d",
   "metadata": {},
   "outputs": [
    {
     "name": "stdout",
     "output_type": "stream",
     "text": [
      "         Date      Open      High       Low     Close  Adj Close      Volume  \\\n",
      "0  1986-03-13  0.088542  0.101563  0.088542  0.097222   0.059946  1031788800   \n",
      "1  1986-03-14  0.097222  0.102431  0.097222  0.100694   0.062087   308160000   \n",
      "2  1986-03-17  0.100694  0.103299  0.100694  0.102431   0.063158   133171200   \n",
      "3  1986-03-18  0.102431  0.103299  0.098958  0.099826   0.061552    67766400   \n",
      "4  1986-03-19  0.099826  0.100694  0.097222  0.098090   0.060482    47894400   \n",
      "\n",
      "   Dividends  Stock Splits  \n",
      "0        0.0           0.0  \n",
      "1        0.0           0.0  \n",
      "2        0.0           0.0  \n",
      "3        0.0           0.0  \n",
      "4        0.0           0.0  \n"
     ]
    }
   ],
   "source": [
    "# Access each dataset by its name\n",
    "print(dataframes[\"MSFT\"].head())  # Print first 5 rows of MSFT data"
   ]
  },
  {
   "cell_type": "markdown",
   "id": "c8c59d24-3519-443d-be6a-2a8587e2dc2b",
   "metadata": {},
   "source": [
    "Data Overview\n",
    "Column Summary"
   ]
  },
  {
   "cell_type": "code",
   "execution_count": 46,
   "id": "b5f3fba8-31b5-45aa-b9ef-e0dffe63c298",
   "metadata": {},
   "outputs": [
    {
     "name": "stdout",
     "output_type": "stream",
     "text": [
      "analyst_ratings columns: ['Unnamed: 0', 'headline', 'url', 'publisher', 'date', 'stock']\n",
      "AAPL columns: ['Date', 'Open', 'High', 'Low', 'Close', 'Adj Close', 'Volume', 'Dividends', 'Stock Splits']\n",
      "AMZN columns: ['Date', 'Open', 'High', 'Low', 'Close', 'Adj Close', 'Volume', 'Dividends', 'Stock Splits']\n",
      "META columns: ['Date', 'Open', 'High', 'Low', 'Close', 'Adj Close', 'Volume', 'Dividends', 'Stock Splits']\n",
      "GOOG columns: ['Date', 'Open', 'High', 'Low', 'Close', 'Adj Close', 'Volume', 'Dividends', 'Stock Splits']\n",
      "NVDA columns: ['Date', 'Open', 'High', 'Low', 'Close', 'Adj Close', 'Volume', 'Dividends', 'Stock Splits']\n",
      "TSLA columns: ['Date', 'Open', 'High', 'Low', 'Close', 'Adj Close', 'Volume', 'Dividends', 'Stock Splits']\n",
      "MSFT columns: ['Date', 'Open', 'High', 'Low', 'Close', 'Adj Close', 'Volume', 'Dividends', 'Stock Splits']\n"
     ]
    }
   ],
   "source": [
    "for name, df in dataframes.items():\n",
    "    print(f\"{name} columns: {df.columns.tolist()}\")"
   ]
  },
  {
   "cell_type": "markdown",
   "id": "b5258b2a-b536-4ced-bb84-3947cfc71c80",
   "metadata": {},
   "source": [
    "Check Missing Values"
   ]
  },
  {
   "cell_type": "code",
   "execution_count": 48,
   "id": "7eaa9dc9-c065-4318-95bd-66b495ac71ee",
   "metadata": {},
   "outputs": [
    {
     "name": "stdout",
     "output_type": "stream",
     "text": [
      "analyst_ratings missing values:\n",
      "Unnamed: 0    0\n",
      "headline      0\n",
      "url           0\n",
      "publisher     0\n",
      "date          0\n",
      "stock         0\n",
      "dtype: int64\n",
      "AAPL missing values:\n",
      "Date            0\n",
      "Open            0\n",
      "High            0\n",
      "Low             0\n",
      "Close           0\n",
      "Adj Close       0\n",
      "Volume          0\n",
      "Dividends       0\n",
      "Stock Splits    0\n",
      "dtype: int64\n",
      "AMZN missing values:\n",
      "Date            0\n",
      "Open            0\n",
      "High            0\n",
      "Low             0\n",
      "Close           0\n",
      "Adj Close       0\n",
      "Volume          0\n",
      "Dividends       0\n",
      "Stock Splits    0\n",
      "dtype: int64\n",
      "META missing values:\n",
      "Date            0\n",
      "Open            0\n",
      "High            0\n",
      "Low             0\n",
      "Close           0\n",
      "Adj Close       0\n",
      "Volume          0\n",
      "Dividends       0\n",
      "Stock Splits    0\n",
      "dtype: int64\n",
      "GOOG missing values:\n",
      "Date            0\n",
      "Open            0\n",
      "High            0\n",
      "Low             0\n",
      "Close           0\n",
      "Adj Close       0\n",
      "Volume          0\n",
      "Dividends       0\n",
      "Stock Splits    0\n",
      "dtype: int64\n",
      "NVDA missing values:\n",
      "Date            0\n",
      "Open            0\n",
      "High            0\n",
      "Low             0\n",
      "Close           0\n",
      "Adj Close       0\n",
      "Volume          0\n",
      "Dividends       0\n",
      "Stock Splits    0\n",
      "dtype: int64\n",
      "TSLA missing values:\n",
      "Date            0\n",
      "Open            0\n",
      "High            0\n",
      "Low             0\n",
      "Close           0\n",
      "Adj Close       0\n",
      "Volume          0\n",
      "Dividends       0\n",
      "Stock Splits    0\n",
      "dtype: int64\n",
      "MSFT missing values:\n",
      "Date            0\n",
      "Open            0\n",
      "High            0\n",
      "Low             0\n",
      "Close           0\n",
      "Adj Close       0\n",
      "Volume          0\n",
      "Dividends       0\n",
      "Stock Splits    0\n",
      "dtype: int64\n"
     ]
    }
   ],
   "source": [
    "for name, df in dataframes.items():\n",
    "    print(f\"{name} missing values:\\n{df.isnull().sum()}\")\n",
    "    "
   ]
  },
  {
   "cell_type": "markdown",
   "id": "622da2d0-71f9-40c4-b7cc-7475fca754c8",
   "metadata": {},
   "source": [
    " Data Cleaning\n",
    "Ensure uniformity in column formats (e.g., Date as datetime)"
   ]
  },
  {
   "cell_type": "code",
   "execution_count": 53,
   "id": "742e91a5-bde7-4149-94f8-60475ccf9ebe",
   "metadata": {},
   "outputs": [
    {
     "ename": "KeyError",
     "evalue": "'raw_analyst_ratings.csv'",
     "output_type": "error",
     "traceback": [
      "\u001b[1;31m---------------------------------------------------------------------------\u001b[0m",
      "\u001b[1;31mKeyError\u001b[0m                                  Traceback (most recent call last)",
      "File \u001b[1;32m~\\anaconda3\\Lib\\site-packages\\pandas\\core\\indexes\\base.py:3805\u001b[0m, in \u001b[0;36mIndex.get_loc\u001b[1;34m(self, key)\u001b[0m\n\u001b[0;32m   3804\u001b[0m \u001b[38;5;28;01mtry\u001b[39;00m:\n\u001b[1;32m-> 3805\u001b[0m     \u001b[38;5;28;01mreturn\u001b[39;00m \u001b[38;5;28mself\u001b[39m\u001b[38;5;241m.\u001b[39m_engine\u001b[38;5;241m.\u001b[39mget_loc(casted_key)\n\u001b[0;32m   3806\u001b[0m \u001b[38;5;28;01mexcept\u001b[39;00m \u001b[38;5;167;01mKeyError\u001b[39;00m \u001b[38;5;28;01mas\u001b[39;00m err:\n",
      "File \u001b[1;32mindex.pyx:167\u001b[0m, in \u001b[0;36mpandas._libs.index.IndexEngine.get_loc\u001b[1;34m()\u001b[0m\n",
      "File \u001b[1;32mindex.pyx:196\u001b[0m, in \u001b[0;36mpandas._libs.index.IndexEngine.get_loc\u001b[1;34m()\u001b[0m\n",
      "File \u001b[1;32mpandas\\\\_libs\\\\hashtable_class_helper.pxi:7081\u001b[0m, in \u001b[0;36mpandas._libs.hashtable.PyObjectHashTable.get_item\u001b[1;34m()\u001b[0m\n",
      "File \u001b[1;32mpandas\\\\_libs\\\\hashtable_class_helper.pxi:7089\u001b[0m, in \u001b[0;36mpandas._libs.hashtable.PyObjectHashTable.get_item\u001b[1;34m()\u001b[0m\n",
      "\u001b[1;31mKeyError\u001b[0m: 'raw_analyst_ratings.csv'",
      "\nThe above exception was the direct cause of the following exception:\n",
      "\u001b[1;31mKeyError\u001b[0m                                  Traceback (most recent call last)",
      "Cell \u001b[1;32mIn[53], line 2\u001b[0m\n\u001b[0;32m      1\u001b[0m \u001b[38;5;28;01mfor\u001b[39;00m name, df \u001b[38;5;129;01min\u001b[39;00m dataframes\u001b[38;5;241m.\u001b[39mitems():\n\u001b[1;32m----> 2\u001b[0m     df[\u001b[38;5;124m'\u001b[39m\u001b[38;5;124mraw_analyst_ratings.csv\u001b[39m\u001b[38;5;124m'\u001b[39m] \u001b[38;5;241m=\u001b[39m pd\u001b[38;5;241m.\u001b[39mto_datetime(df[\u001b[38;5;124m'\u001b[39m\u001b[38;5;124mraw_analyst_ratings.csv\u001b[39m\u001b[38;5;124m'\u001b[39m])\n",
      "File \u001b[1;32m~\\anaconda3\\Lib\\site-packages\\pandas\\core\\frame.py:4102\u001b[0m, in \u001b[0;36mDataFrame.__getitem__\u001b[1;34m(self, key)\u001b[0m\n\u001b[0;32m   4100\u001b[0m \u001b[38;5;28;01mif\u001b[39;00m \u001b[38;5;28mself\u001b[39m\u001b[38;5;241m.\u001b[39mcolumns\u001b[38;5;241m.\u001b[39mnlevels \u001b[38;5;241m>\u001b[39m \u001b[38;5;241m1\u001b[39m:\n\u001b[0;32m   4101\u001b[0m     \u001b[38;5;28;01mreturn\u001b[39;00m \u001b[38;5;28mself\u001b[39m\u001b[38;5;241m.\u001b[39m_getitem_multilevel(key)\n\u001b[1;32m-> 4102\u001b[0m indexer \u001b[38;5;241m=\u001b[39m \u001b[38;5;28mself\u001b[39m\u001b[38;5;241m.\u001b[39mcolumns\u001b[38;5;241m.\u001b[39mget_loc(key)\n\u001b[0;32m   4103\u001b[0m \u001b[38;5;28;01mif\u001b[39;00m is_integer(indexer):\n\u001b[0;32m   4104\u001b[0m     indexer \u001b[38;5;241m=\u001b[39m [indexer]\n",
      "File \u001b[1;32m~\\anaconda3\\Lib\\site-packages\\pandas\\core\\indexes\\base.py:3812\u001b[0m, in \u001b[0;36mIndex.get_loc\u001b[1;34m(self, key)\u001b[0m\n\u001b[0;32m   3807\u001b[0m     \u001b[38;5;28;01mif\u001b[39;00m \u001b[38;5;28misinstance\u001b[39m(casted_key, \u001b[38;5;28mslice\u001b[39m) \u001b[38;5;129;01mor\u001b[39;00m (\n\u001b[0;32m   3808\u001b[0m         \u001b[38;5;28misinstance\u001b[39m(casted_key, abc\u001b[38;5;241m.\u001b[39mIterable)\n\u001b[0;32m   3809\u001b[0m         \u001b[38;5;129;01mand\u001b[39;00m \u001b[38;5;28many\u001b[39m(\u001b[38;5;28misinstance\u001b[39m(x, \u001b[38;5;28mslice\u001b[39m) \u001b[38;5;28;01mfor\u001b[39;00m x \u001b[38;5;129;01min\u001b[39;00m casted_key)\n\u001b[0;32m   3810\u001b[0m     ):\n\u001b[0;32m   3811\u001b[0m         \u001b[38;5;28;01mraise\u001b[39;00m InvalidIndexError(key)\n\u001b[1;32m-> 3812\u001b[0m     \u001b[38;5;28;01mraise\u001b[39;00m \u001b[38;5;167;01mKeyError\u001b[39;00m(key) \u001b[38;5;28;01mfrom\u001b[39;00m \u001b[38;5;21;01merr\u001b[39;00m\n\u001b[0;32m   3813\u001b[0m \u001b[38;5;28;01mexcept\u001b[39;00m \u001b[38;5;167;01mTypeError\u001b[39;00m:\n\u001b[0;32m   3814\u001b[0m     \u001b[38;5;66;03m# If we have a listlike key, _check_indexing_error will raise\u001b[39;00m\n\u001b[0;32m   3815\u001b[0m     \u001b[38;5;66;03m#  InvalidIndexError. Otherwise we fall through and re-raise\u001b[39;00m\n\u001b[0;32m   3816\u001b[0m     \u001b[38;5;66;03m#  the TypeError.\u001b[39;00m\n\u001b[0;32m   3817\u001b[0m     \u001b[38;5;28mself\u001b[39m\u001b[38;5;241m.\u001b[39m_check_indexing_error(key)\n",
      "\u001b[1;31mKeyError\u001b[0m: 'raw_analyst_ratings.csv'"
     ]
    }
   ],
   "source": [
    "for name, df in dataframes.items():\n",
    "    df['raw_analyst_ratings.csv'] = pd.to_datetime(df['raw_analyst_ratings.csv'])\n",
    "  "
   ]
  },
  {
   "cell_type": "markdown",
   "id": "9f60efc3-1be8-49cc-ae52-92c9e867a03f",
   "metadata": {},
   "source": [
    "Handle missing or erroneous data"
   ]
  },
  {
   "cell_type": "code",
   "execution_count": 55,
   "id": "683fd685-72a3-4197-ad31-1295de4ff048",
   "metadata": {},
   "outputs": [],
   "source": [
    "for name, df in dataframes.items():\n",
    "    df.dropna(inplace=True)  # Drop rows with NaN"
   ]
  },
  {
   "cell_type": "markdown",
   "id": "ff3de84c-e5c2-4143-8f31-68465977be48",
   "metadata": {},
   "source": [
    " Exploratory Analysis\n",
    "Basic Statistics"
   ]
  },
  {
   "cell_type": "code",
   "execution_count": 58,
   "id": "c54a10a6-221f-40b5-acf6-3149a8bc1ad6",
   "metadata": {},
   "outputs": [
    {
     "name": "stdout",
     "output_type": "stream",
     "text": [
      "analyst_ratings stats:\n",
      "         Unnamed: 0\n",
      "count  1.407328e+06\n",
      "mean   7.072454e+05\n",
      "std    4.081009e+05\n",
      "min    0.000000e+00\n",
      "25%    3.538128e+05\n",
      "50%    7.072395e+05\n",
      "75%    1.060710e+06\n",
      "max    1.413848e+06\n",
      "AAPL stats:\n",
      "               Open          High           Low         Close     Adj Close  \\\n",
      "count  10998.000000  10998.000000  10998.000000  10998.000000  10998.000000   \n",
      "mean      22.299160     22.539055     22.068367     22.312754     21.494496   \n",
      "std       46.003685     46.496031     45.540929     46.037660     45.561916   \n",
      "min        0.049665      0.049665      0.049107      0.049107      0.037857   \n",
      "25%        0.299107      0.303710      0.290179      0.298549      0.241840   \n",
      "50%        0.531250      0.537946      0.522321      0.531250      0.432079   \n",
      "75%       20.204196     20.389554     19.998036     20.196160     17.253029   \n",
      "max      236.479996    237.229996    233.089996    234.820007    234.548523   \n",
      "\n",
      "             Volume     Dividends  Stock Splits  \n",
      "count  1.099800e+04  10998.000000  10998.000000  \n",
      "mean   3.180806e+08      0.000752      0.001546  \n",
      "std    3.354523e+08      0.011753      0.083663  \n",
      "min    0.000000e+00      0.000000      0.000000  \n",
      "25%    1.132545e+08      0.000000      0.000000  \n",
      "50%    2.057412e+08      0.000000      0.000000  \n",
      "75%    3.985275e+08      0.000000      0.000000  \n",
      "max    7.421641e+09      0.250000      7.000000  \n",
      "AMZN stats:\n",
      "              Open         High          Low        Close    Adj Close  \\\n",
      "count  6846.000000  6846.000000  6846.000000  6846.000000  6846.000000   \n",
      "mean     37.360464    37.801009    36.882561    37.351096    37.351096   \n",
      "std      53.756955    54.366449    53.087051    53.729913    53.729913   \n",
      "min       0.070313     0.072396     0.065625     0.069792     0.069792   \n",
      "25%       2.070125     2.120625     2.040156     2.076750     2.076750   \n",
      "50%       8.574500     8.666750     8.466500     8.591500     8.591500   \n",
      "75%      50.453876    50.723249    50.059875    50.426500    50.426500   \n",
      "max     200.089996   201.199997   199.050003   200.000000   200.000000   \n",
      "\n",
      "             Volume  Dividends  Stock Splits  \n",
      "count  6.846000e+03     6846.0   6846.000000  \n",
      "mean   1.380713e+08        0.0      0.003944  \n",
      "std    1.382346e+08        0.0      0.246789  \n",
      "min    9.744000e+06        0.0      0.000000  \n",
      "25%    6.505442e+07        0.0      0.000000  \n",
      "50%    1.020650e+08        0.0      0.000000  \n",
      "75%    1.567560e+08        0.0      0.000000  \n",
      "max    2.086584e+09        0.0     20.000000  \n",
      "META stats:\n",
      "              Open         High          Low        Close    Adj Close  \\\n",
      "count  2926.000000  2926.000000  2926.000000  2926.000000  2926.000000   \n",
      "mean    179.557215   181.875331   177.317761   179.649453   179.305921   \n",
      "std     108.864895   110.256219   107.511134   108.906971   108.755055   \n",
      "min      22.990000    23.090000    22.670000    22.900000    22.853037   \n",
      "25%      97.767502    98.772499    95.889997    97.382498    97.182795   \n",
      "50%     166.870003   168.850006   164.210007   166.855003   166.512825   \n",
      "75%     231.450005   234.934998   228.687504   232.424999   231.948360   \n",
      "max     542.349976   542.809998   528.359985   539.909973   539.909973   \n",
      "\n",
      "             Volume    Dividends  Stock Splits  \n",
      "count  2.926000e+03  2926.000000        2926.0  \n",
      "mean   2.872083e+07     0.000342           0.0  \n",
      "std    2.269811e+07     0.013070           0.0  \n",
      "min    5.467500e+06     0.000000           0.0  \n",
      "25%    1.571308e+07     0.000000           0.0  \n",
      "50%    2.176100e+07     0.000000           0.0  \n",
      "75%    3.294468e+07     0.000000           0.0  \n",
      "max    3.654579e+08     0.500000           0.0  \n",
      "GOOG stats:\n",
      "              Open         High          Low        Close    Adj Close  \\\n",
      "count  5020.000000  5020.000000  5020.000000  5020.000000  5020.000000   \n",
      "mean     45.251315    45.728793    44.800587    45.274515    45.224493   \n",
      "std      43.338635    43.818298    42.918167    43.377299    43.332534   \n",
      "min       2.470490     2.534002     2.390042     2.490913     2.488082   \n",
      "25%      13.034705    13.145415    12.881592    13.032090    13.017277   \n",
      "50%      26.982210    27.194902    26.791387    27.005927    26.975230   \n",
      "75%      60.215126    60.758375    59.811811    60.280252    60.211734   \n",
      "max     191.750000   193.309998   190.619995   192.660004   192.660004   \n",
      "\n",
      "             Volume    Dividends  Stock Splits  \n",
      "count  5.020000e+03  5020.000000   5020.000000  \n",
      "mean   1.157539e+08     0.000040      0.004583  \n",
      "std    1.497936e+08     0.002823      0.284034  \n",
      "min    1.584340e+05     0.000000      0.000000  \n",
      "25%    2.733950e+07     0.000000      0.000000  \n",
      "50%    5.585480e+07     0.000000      0.000000  \n",
      "75%    1.425333e+08     0.000000      0.000000  \n",
      "max    1.650833e+09     0.200000     20.000000  \n",
      "NVDA stats:\n",
      "              Open         High          Low        Close    Adj Close  \\\n",
      "count  6421.000000  6421.000000  6421.000000  6421.000000  6421.000000   \n",
      "mean      6.207884     6.320466     6.085095     6.207702     6.181334   \n",
      "std      16.138328    16.424862    15.794914    16.118517    16.121352   \n",
      "min       0.034896     0.035547     0.033333     0.034115     0.031291   \n",
      "25%       0.277500     0.286250     0.269500     0.276750     0.253843   \n",
      "50%       0.457250     0.464750     0.450750     0.457000     0.427637   \n",
      "75%       4.182500     4.235750     4.116500     4.175000     4.130434   \n",
      "max     139.800003   140.759995   132.419998   135.580002   135.580002   \n",
      "\n",
      "             Volume    Dividends  Stock Splits  \n",
      "count  6.421000e+03  6421.000000   6421.000000  \n",
      "mean   6.060791e+08     0.000025      0.003348  \n",
      "std    4.323482e+08     0.000316      0.142397  \n",
      "min    1.968000e+07     0.000000      0.000000  \n",
      "25%    3.456350e+08     0.000000      0.000000  \n",
      "50%    5.070000e+08     0.000000      0.000000  \n",
      "75%    7.362000e+08     0.000000      0.000000  \n",
      "max    9.230856e+09     0.010000     10.000000  \n",
      "TSLA stats:\n",
      "              Open         High          Low        Close    Adj Close  \\\n",
      "count  3545.000000  3545.000000  3545.000000  3545.000000  3545.000000   \n",
      "mean     75.505658    77.159237    73.743492    75.487264    75.487264   \n",
      "std     102.530489   104.806516   100.051787   102.456615   102.456615   \n",
      "min       1.076000     1.108667     0.998667     1.053333     1.053333   \n",
      "25%      11.516667    11.861333    11.216667    11.565333    11.565333   \n",
      "50%      17.463333    17.688667    17.100000    17.459333    17.459333   \n",
      "75%     161.880005   165.333328   158.360001   161.479996   161.479996   \n",
      "max     411.470001   414.496674   405.666656   409.970001   409.970001   \n",
      "\n",
      "             Volume  Dividends  Stock Splits  \n",
      "count  3.545000e+03     3545.0   3545.000000  \n",
      "mean   9.699708e+07        0.0      0.002257  \n",
      "std    7.866828e+07        0.0      0.097921  \n",
      "min    1.777500e+06        0.0      0.000000  \n",
      "25%    4.770600e+07        0.0      0.000000  \n",
      "50%    8.250600e+07        0.0      0.000000  \n",
      "75%    1.228890e+08        0.0      0.000000  \n",
      "max    9.140820e+08        0.0      5.000000  \n",
      "MSFT stats:\n",
      "              Open         High          Low        Close    Adj Close  \\\n",
      "count  9672.000000  9672.000000  9672.000000  9672.000000  9672.000000   \n",
      "mean     58.402199    59.003071    57.784759    58.417683    52.719365   \n",
      "std      90.122302    90.958645    89.232546    90.146786    90.066461   \n",
      "min       0.088542     0.092014     0.088542     0.090278     0.055665   \n",
      "25%       5.695313     5.770508     5.617188     5.695313     3.511695   \n",
      "50%      27.304999    27.600000    27.085000    27.341875    19.145540   \n",
      "75%      46.687500    47.099998    46.138672    46.657187    38.339042   \n",
      "max     467.000000   468.350006   464.459991   467.559998   466.718781   \n",
      "\n",
      "             Volume    Dividends  Stock Splits  \n",
      "count  9.672000e+03  9672.000000   9672.000000  \n",
      "mean   5.677678e+07     0.002982      0.001758  \n",
      "std    3.814123e+07     0.046524      0.057944  \n",
      "min    2.304000e+06     0.000000      0.000000  \n",
      "25%    3.206982e+07     0.000000      0.000000  \n",
      "50%    4.990225e+07     0.000000      0.000000  \n",
      "75%    7.071788e+07     0.000000      0.000000  \n",
      "max    1.031789e+09     3.080000      2.000000  \n"
     ]
    }
   ],
   "source": [
    "for name, df in dataframes.items():\n",
    "    print(f\"{name} stats:\\n{df.describe()}\")"
   ]
  },
  {
   "cell_type": "markdown",
   "id": "1fc1b2c2-c66b-4bf9-a352-e8871f5bd19a",
   "metadata": {},
   "source": [
    "Check the Columns of the DataFrame"
   ]
  },
  {
   "cell_type": "code",
   "execution_count": 63,
   "id": "3c991499-7474-459b-a65c-ff71f6b8d523",
   "metadata": {},
   "outputs": [
    {
     "name": "stdout",
     "output_type": "stream",
     "text": [
      "DataFrame: analyst_ratings\n",
      "Index(['Unnamed: 0', 'headline', 'url', 'publisher', 'date', 'stock'], dtype='object')\n",
      "DataFrame: AAPL\n",
      "Index(['Date', 'Open', 'High', 'Low', 'Close', 'Adj Close', 'Volume',\n",
      "       'Dividends', 'Stock Splits'],\n",
      "      dtype='object')\n",
      "DataFrame: AMZN\n",
      "Index(['Date', 'Open', 'High', 'Low', 'Close', 'Adj Close', 'Volume',\n",
      "       'Dividends', 'Stock Splits'],\n",
      "      dtype='object')\n",
      "DataFrame: META\n",
      "Index(['Date', 'Open', 'High', 'Low', 'Close', 'Adj Close', 'Volume',\n",
      "       'Dividends', 'Stock Splits'],\n",
      "      dtype='object')\n",
      "DataFrame: GOOG\n",
      "Index(['Date', 'Open', 'High', 'Low', 'Close', 'Adj Close', 'Volume',\n",
      "       'Dividends', 'Stock Splits'],\n",
      "      dtype='object')\n",
      "DataFrame: NVDA\n",
      "Index(['Date', 'Open', 'High', 'Low', 'Close', 'Adj Close', 'Volume',\n",
      "       'Dividends', 'Stock Splits'],\n",
      "      dtype='object')\n",
      "DataFrame: TSLA\n",
      "Index(['Date', 'Open', 'High', 'Low', 'Close', 'Adj Close', 'Volume',\n",
      "       'Dividends', 'Stock Splits'],\n",
      "      dtype='object')\n",
      "DataFrame: MSFT\n",
      "Index(['Date', 'Open', 'High', 'Low', 'Close', 'Adj Close', 'Volume',\n",
      "       'Dividends', 'Stock Splits'],\n",
      "      dtype='object')\n"
     ]
    }
   ],
   "source": [
    "for name, df in dataframes.items():\n",
    "    print(f\"DataFrame: {name}\")\n",
    "    print(df.columns)"
   ]
  },
  {
   "cell_type": "markdown",
   "id": "68550c8c-d74b-49a3-98e0-5e7d2ba21895",
   "metadata": {},
   "source": [
    "Ensure the Column Exists"
   ]
  },
  {
   "cell_type": "code",
   "execution_count": 65,
   "id": "df8e03f7-bf57-4670-b893-2cdfef4a6c6e",
   "metadata": {},
   "outputs": [],
   "source": [
    "for name, df in dataframes.items():\n",
    "    df.columns = df.columns.str.strip().str.lower()  # Remove spaces and convert to lowercase"
   ]
  },
  {
   "cell_type": "markdown",
   "id": "b4fccf80-e966-45ac-b563-dcf1110042d2",
   "metadata": {},
   "source": [
    "Check for Parsing Issues"
   ]
  },
  {
   "cell_type": "code",
   "execution_count": 67,
   "id": "0a1882a6-ee15-4858-9cee-6a4b461a35ad",
   "metadata": {},
   "outputs": [
    {
     "name": "stdout",
     "output_type": "stream",
     "text": [
      "   unnamed: 0                                           headline  \\\n",
      "0           0            Stocks That Hit 52-Week Highs On Friday   \n",
      "1           1         Stocks That Hit 52-Week Highs On Wednesday   \n",
      "2           2                      71 Biggest Movers From Friday   \n",
      "3           3       46 Stocks Moving In Friday's Mid-Day Session   \n",
      "4           4  B of A Securities Maintains Neutral on Agilent...   \n",
      "\n",
      "                                                 url          publisher  \\\n",
      "0  https://www.benzinga.com/news/20/06/16190091/s...  Benzinga Insights   \n",
      "1  https://www.benzinga.com/news/20/06/16170189/s...  Benzinga Insights   \n",
      "2  https://www.benzinga.com/news/20/05/16103463/7...         Lisa Levin   \n",
      "3  https://www.benzinga.com/news/20/05/16095921/4...         Lisa Levin   \n",
      "4  https://www.benzinga.com/news/20/05/16095304/b...         Vick Meyer   \n",
      "\n",
      "                        date stock  \n",
      "0  2020-06-05 10:30:54-04:00     A  \n",
      "1  2020-06-03 10:45:20-04:00     A  \n",
      "2  2020-05-26 04:30:07-04:00     A  \n",
      "3  2020-05-22 12:45:06-04:00     A  \n",
      "4  2020-05-22 11:38:59-04:00     A  \n",
      "         date      open      high       low     close  adj close     volume  \\\n",
      "0  1980-12-12  0.128348  0.128906  0.128348  0.128348   0.098943  469033600   \n",
      "1  1980-12-15  0.122210  0.122210  0.121652  0.121652   0.093781  175884800   \n",
      "2  1980-12-16  0.113281  0.113281  0.112723  0.112723   0.086898  105728000   \n",
      "3  1980-12-17  0.115513  0.116071  0.115513  0.115513   0.089049   86441600   \n",
      "4  1980-12-18  0.118862  0.119420  0.118862  0.118862   0.091630   73449600   \n",
      "\n",
      "   dividends  stock splits  \n",
      "0        0.0           0.0  \n",
      "1        0.0           0.0  \n",
      "2        0.0           0.0  \n",
      "3        0.0           0.0  \n",
      "4        0.0           0.0  \n",
      "         date      open      high       low     close  adj close      volume  \\\n",
      "0  1997-05-15  0.121875  0.125000  0.096354  0.097917   0.097917  1443120000   \n",
      "1  1997-05-16  0.098438  0.098958  0.085417  0.086458   0.086458   294000000   \n",
      "2  1997-05-19  0.088021  0.088542  0.081250  0.085417   0.085417   122136000   \n",
      "3  1997-05-20  0.086458  0.087500  0.081771  0.081771   0.081771   109344000   \n",
      "4  1997-05-21  0.081771  0.082292  0.068750  0.071354   0.071354   377064000   \n",
      "\n",
      "   dividends  stock splits  \n",
      "0        0.0           0.0  \n",
      "1        0.0           0.0  \n",
      "2        0.0           0.0  \n",
      "3        0.0           0.0  \n",
      "4        0.0           0.0  \n",
      "         date       open       high        low      close  adj close  \\\n",
      "0  2012-12-12  28.000000  28.139999  27.370001  27.580000  27.523441   \n",
      "1  2012-12-13  27.590000  28.750000  27.430000  28.240000  28.182087   \n",
      "2  2012-12-14  28.180000  28.330000  26.760000  26.809999  26.755020   \n",
      "3  2012-12-17  26.770000  27.000000  26.320000  26.750000  26.695143   \n",
      "4  2012-12-18  26.959999  27.910000  26.900000  27.709999  27.653173   \n",
      "\n",
      "     volume  dividends  stock splits  \n",
      "0  46704200        0.0           0.0  \n",
      "1  81051600        0.0           0.0  \n",
      "2  91631600        0.0           0.0  \n",
      "3  57742500        0.0           0.0  \n",
      "4  60512900        0.0           0.0  \n",
      "         date      open      high       low     close  adj close     volume  \\\n",
      "0  2004-08-19  2.490664  2.591785  2.390042  2.499133   2.496292  897427216   \n",
      "1  2004-08-20  2.515820  2.716817  2.503118  2.697639   2.694573  458857488   \n",
      "2  2004-08-23  2.758411  2.826406  2.716070  2.724787   2.721690  366857939   \n",
      "3  2004-08-24  2.770615  2.779581  2.579581  2.611960   2.608991  306396159   \n",
      "4  2004-08-25  2.614201  2.689918  2.587302  2.640104   2.637103  184645512   \n",
      "\n",
      "   dividends  stock splits  \n",
      "0        0.0           0.0  \n",
      "1        0.0           0.0  \n",
      "2        0.0           0.0  \n",
      "3        0.0           0.0  \n",
      "4        0.0           0.0  \n",
      "         date      open      high       low     close  adj close      volume  \\\n",
      "0  1999-01-22  0.043750  0.048828  0.038802  0.041016   0.037621  2714688000   \n",
      "1  1999-01-25  0.044271  0.045833  0.041016  0.045313   0.041562   510480000   \n",
      "2  1999-01-26  0.045833  0.046745  0.041146  0.041797   0.038337   343200000   \n",
      "3  1999-01-27  0.041927  0.042969  0.039583  0.041667   0.038218   244368000   \n",
      "4  1999-01-28  0.041667  0.041927  0.041276  0.041536   0.038098   227520000   \n",
      "\n",
      "   dividends  stock splits  \n",
      "0        0.0           0.0  \n",
      "1        0.0           0.0  \n",
      "2        0.0           0.0  \n",
      "3        0.0           0.0  \n",
      "4        0.0           0.0  \n",
      "         date      open      high       low     close  adj close     volume  \\\n",
      "0  2010-06-29  1.266667  1.666667  1.169333  1.592667   1.592667  281494500   \n",
      "1  2010-06-30  1.719333  2.028000  1.553333  1.588667   1.588667  257806500   \n",
      "2  2010-07-01  1.666667  1.728000  1.351333  1.464000   1.464000  123282000   \n",
      "3  2010-07-02  1.533333  1.540000  1.247333  1.280000   1.280000   77097000   \n",
      "4  2010-07-06  1.333333  1.333333  1.055333  1.074000   1.074000  103003500   \n",
      "\n",
      "   dividends  stock splits  \n",
      "0        0.0           0.0  \n",
      "1        0.0           0.0  \n",
      "2        0.0           0.0  \n",
      "3        0.0           0.0  \n",
      "4        0.0           0.0  \n",
      "         date      open      high       low     close  adj close      volume  \\\n",
      "0  1986-03-13  0.088542  0.101563  0.088542  0.097222   0.059946  1031788800   \n",
      "1  1986-03-14  0.097222  0.102431  0.097222  0.100694   0.062087   308160000   \n",
      "2  1986-03-17  0.100694  0.103299  0.100694  0.102431   0.063158   133171200   \n",
      "3  1986-03-18  0.102431  0.103299  0.098958  0.099826   0.061552    67766400   \n",
      "4  1986-03-19  0.099826  0.100694  0.097222  0.098090   0.060482    47894400   \n",
      "\n",
      "   dividends  stock splits  \n",
      "0        0.0           0.0  \n",
      "1        0.0           0.0  \n",
      "2        0.0           0.0  \n",
      "3        0.0           0.0  \n",
      "4        0.0           0.0  \n"
     ]
    }
   ],
   "source": [
    "for name, df in dataframes.items():\n",
    "    print(df.head())"
   ]
  },
  {
   "cell_type": "markdown",
   "id": "30d2af0c-927f-4548-8da8-9d27b4c5976b",
   "metadata": {},
   "source": [
    "Handle Missing"
   ]
  },
  {
   "cell_type": "code",
   "execution_count": 70,
   "id": "381d2f08-23e8-4f72-a975-2b81619a47fd",
   "metadata": {},
   "outputs": [],
   "source": [
    "for name, df in dataframes.items():\n",
    "    if df.index.name == 'Date':\n",
    "        df.reset_index(inplace=True)"
   ]
  },
  {
   "cell_type": "code",
   "execution_count": 72,
   "id": "19a87fbc-54c9-4b44-b585-0ad26ff5d270",
   "metadata": {},
   "outputs": [
    {
     "name": "stdout",
     "output_type": "stream",
     "text": [
      "DataFrame analyst_ratings is missing required columns.\n"
     ]
    },
    {
     "data": {
      "image/png": "[encoded data removed]",
      "text/plain": [
       "<Figure size 640x480 with 1 Axes>"
      ]
     },
     "metadata": {},
     "output_type": "display_data"
    }
   ],
   "source": [
    "import matplotlib.pyplot as plt\n",
    "\n",
    "for name, df in dataframes.items():\n",
    "    if 'date' in df.columns and 'close' in df.columns:\n",
    "        plt.plot(df['date'], df['close'], label=name)\n",
    "    else:\n",
    "        print(f\"DataFrame {name} is missing required columns.\")\n",
    "\n",
    "plt.legend()\n",
    "plt.xlabel('Date')\n",
    "plt.ylabel('Close Price')\n",
    "plt.title('Stock Prices Over Time')\n",
    "plt.show()"
   ]
  },
  {
   "cell_type": "markdown",
   "id": "4cbff01a-26ce-4093-9626-805d8e3d8cea",
   "metadata": {},
   "source": [
    "Descriptive Statistics\n",
    "Headline Length\n",
    "Calculate and visualize the distribution of headline lengths."
   ]
  },
  {
   "cell_type": "code",
   "execution_count": 84,
   "id": "c7e513cf-7974-48a2-898b-31f9540e952f",
   "metadata": {},
   "outputs": [
    {
     "data": {
      "image/png": "[encoded data removed]",
      "text/plain": [
       "<Figure size 800x600 with 1 Axes>"
      ]
     },
     "metadata": {},
     "output_type": "display_data"
    }
   ],
   "source": [
    "import matplotlib.pyplot as plt\n",
    "import seaborn as sns\n",
    "\n",
    "# Add a column for headline length\n",
    "data_analyst_ratings['headline_length'] = data_analyst_ratings['headline'].apply(len)\n",
    "\n",
    "# Plot histogram of headline lengths\n",
    "plt.figure(figsize=(8, 6))\n",
    "sns.histplot(data_analyst_ratings['headline_length'], kde=True, bins=30)\n",
    "plt.title(\"Distribution of Headline Lengths\")\n",
    "plt.xlabel(\"Headline Length\")\n",
    "plt.ylabel(\"Frequency\")\n",
    "plt.show()"
   ]
  },
  {
   "cell_type": "markdown",
   "id": "8fd9ecff-cbd4-4954-b5cb-2b2ff91abe17",
   "metadata": {},
   "source": [
    "Article Counts by Publisher\n",
    "Identify the top publishers by the number of articles."
   ]
  },
  {
   "cell_type": "code",
   "execution_count": 88,
   "id": "57668e70-3cb0-485c-9d81-52959df9209c",
   "metadata": {},
   "outputs": [
    {
     "data": {
      "image/png": "[encoded data removed]",
      "text/plain": [
       "<Figure size 1000x600 with 1 Axes>"
      ]
     },
     "metadata": {},
     "output_type": "display_data"
    }
   ],
   "source": [
    "# Count articles by publisher\n",
    "publisher_counts = data_analyst_ratings['publisher'].value_counts()\n",
    "\n",
    "# Plot top publishers\n",
    "plt.figure(figsize=(10, 6))\n",
    "publisher_counts.head(10).plot(kind='bar', color='skyblue')\n",
    "plt.title(\"Top 10 Publishers by Article Count\")\n",
    "plt.xlabel(\"Publisher\")\n",
    "plt.ylabel(\"Number of Articles\")\n",
    "plt.xticks(rotation=45)\n",
    "plt.show()"
   ]
  },
  {
   "cell_type": "markdown",
   "id": "15631319-d620-4e7c-9b03-e932dabcb335",
   "metadata": {},
   "source": [
    "Trends in Publication Dates\n",
    "Analyze daily, weekly, or monthly trends in publication dates."
   ]
  },
  {
   "cell_type": "code",
   "execution_count": 101,
   "id": "055adae7-556a-4a79-8522-f9f213985cb5",
   "metadata": {},
   "outputs": [
    {
     "ename": "ValueError",
     "evalue": "time data \"2020-05-22 00:00:00\" doesn't match format \"%Y-%m-%d %H:%M:%S%z\", at position 10. You might want to try:\n    - passing `format` if your strings have a consistent format;\n    - passing `format='ISO8601'` if your strings are all ISO8601 but not necessarily in exactly the same format;\n    - passing `format='mixed'`, and the format will be inferred for each element individually. You might want to use `dayfirst` alongside this.",
     "output_type": "error",
     "traceback": [
      "\u001b[1;31m---------------------------------------------------------------------------\u001b[0m",
      "\u001b[1;31mValueError\u001b[0m                                Traceback (most recent call last)",
      "Cell \u001b[1;32mIn[101], line 2\u001b[0m\n\u001b[0;32m      1\u001b[0m \u001b[38;5;66;03m# Convert 'date' column to datetime\u001b[39;00m\n\u001b[1;32m----> 2\u001b[0m data_analyst_ratings[\u001b[38;5;124m'\u001b[39m\u001b[38;5;124mdate\u001b[39m\u001b[38;5;124m'\u001b[39m] \u001b[38;5;241m=\u001b[39m pd\u001b[38;5;241m.\u001b[39mto_datetime(data_analyst_ratings[\u001b[38;5;124m'\u001b[39m\u001b[38;5;124mdate\u001b[39m\u001b[38;5;124m'\u001b[39m])\n\u001b[0;32m      4\u001b[0m \u001b[38;5;66;03m# Group data by month and count\u001b[39;00m\n\u001b[0;32m      5\u001b[0m monthly_trends \u001b[38;5;241m=\u001b[39m data_analyst_ratings[\u001b[38;5;124m'\u001b[39m\u001b[38;5;124mdate\u001b[39m\u001b[38;5;124m'\u001b[39m]\u001b[38;5;241m.\u001b[39mdt\u001b[38;5;241m.\u001b[39mto_period(\u001b[38;5;124m'\u001b[39m\u001b[38;5;124mM\u001b[39m\u001b[38;5;124m'\u001b[39m)\u001b[38;5;241m.\u001b[39mvalue_counts()\u001b[38;5;241m.\u001b[39msort_index()\n",
      "File \u001b[1;32m~\\anaconda3\\Lib\\site-packages\\pandas\\core\\tools\\datetimes.py:1063\u001b[0m, in \u001b[0;36mto_datetime\u001b[1;34m(arg, errors, dayfirst, yearfirst, utc, format, exact, unit, infer_datetime_format, origin, cache)\u001b[0m\n\u001b[0;32m   1061\u001b[0m             result \u001b[38;5;241m=\u001b[39m arg\u001b[38;5;241m.\u001b[39mtz_localize(\u001b[38;5;124m\"\u001b[39m\u001b[38;5;124mutc\u001b[39m\u001b[38;5;124m\"\u001b[39m)\n\u001b[0;32m   1062\u001b[0m \u001b[38;5;28;01melif\u001b[39;00m \u001b[38;5;28misinstance\u001b[39m(arg, ABCSeries):\n\u001b[1;32m-> 1063\u001b[0m     cache_array \u001b[38;5;241m=\u001b[39m _maybe_cache(arg, \u001b[38;5;28mformat\u001b[39m, cache, convert_listlike)\n\u001b[0;32m   1064\u001b[0m     \u001b[38;5;28;01mif\u001b[39;00m \u001b[38;5;129;01mnot\u001b[39;00m cache_array\u001b[38;5;241m.\u001b[39mempty:\n\u001b[0;32m   1065\u001b[0m         result \u001b[38;5;241m=\u001b[39m arg\u001b[38;5;241m.\u001b[39mmap(cache_array)\n",
      "File \u001b[1;32m~\\anaconda3\\Lib\\site-packages\\pandas\\core\\tools\\datetimes.py:247\u001b[0m, in \u001b[0;36m_maybe_cache\u001b[1;34m(arg, format, cache, convert_listlike)\u001b[0m\n\u001b[0;32m    245\u001b[0m unique_dates \u001b[38;5;241m=\u001b[39m unique(arg)\n\u001b[0;32m    246\u001b[0m \u001b[38;5;28;01mif\u001b[39;00m \u001b[38;5;28mlen\u001b[39m(unique_dates) \u001b[38;5;241m<\u001b[39m \u001b[38;5;28mlen\u001b[39m(arg):\n\u001b[1;32m--> 247\u001b[0m     cache_dates \u001b[38;5;241m=\u001b[39m convert_listlike(unique_dates, \u001b[38;5;28mformat\u001b[39m)\n\u001b[0;32m    248\u001b[0m     \u001b[38;5;66;03m# GH#45319\u001b[39;00m\n\u001b[0;32m    249\u001b[0m     \u001b[38;5;28;01mtry\u001b[39;00m:\n",
      "File \u001b[1;32m~\\anaconda3\\Lib\\site-packages\\pandas\\core\\tools\\datetimes.py:433\u001b[0m, in \u001b[0;36m_convert_listlike_datetimes\u001b[1;34m(arg, format, name, utc, unit, errors, dayfirst, yearfirst, exact)\u001b[0m\n\u001b[0;32m    431\u001b[0m \u001b[38;5;66;03m# `format` could be inferred, or user didn't ask for mixed-format parsing.\u001b[39;00m\n\u001b[0;32m    432\u001b[0m \u001b[38;5;28;01mif\u001b[39;00m \u001b[38;5;28mformat\u001b[39m \u001b[38;5;129;01mis\u001b[39;00m \u001b[38;5;129;01mnot\u001b[39;00m \u001b[38;5;28;01mNone\u001b[39;00m \u001b[38;5;129;01mand\u001b[39;00m \u001b[38;5;28mformat\u001b[39m \u001b[38;5;241m!=\u001b[39m \u001b[38;5;124m\"\u001b[39m\u001b[38;5;124mmixed\u001b[39m\u001b[38;5;124m\"\u001b[39m:\n\u001b[1;32m--> 433\u001b[0m     \u001b[38;5;28;01mreturn\u001b[39;00m _array_strptime_with_fallback(arg, name, utc, \u001b[38;5;28mformat\u001b[39m, exact, errors)\n\u001b[0;32m    435\u001b[0m result, tz_parsed \u001b[38;5;241m=\u001b[39m objects_to_datetime64(\n\u001b[0;32m    436\u001b[0m     arg,\n\u001b[0;32m    437\u001b[0m     dayfirst\u001b[38;5;241m=\u001b[39mdayfirst,\n\u001b[1;32m   (...)\u001b[0m\n\u001b[0;32m    441\u001b[0m     allow_object\u001b[38;5;241m=\u001b[39m\u001b[38;5;28;01mTrue\u001b[39;00m,\n\u001b[0;32m    442\u001b[0m )\n\u001b[0;32m    444\u001b[0m \u001b[38;5;28;01mif\u001b[39;00m tz_parsed \u001b[38;5;129;01mis\u001b[39;00m \u001b[38;5;129;01mnot\u001b[39;00m \u001b[38;5;28;01mNone\u001b[39;00m:\n\u001b[0;32m    445\u001b[0m     \u001b[38;5;66;03m# We can take a shortcut since the datetime64 numpy array\u001b[39;00m\n\u001b[0;32m    446\u001b[0m     \u001b[38;5;66;03m# is in UTC\u001b[39;00m\n",
      "File \u001b[1;32m~\\anaconda3\\Lib\\site-packages\\pandas\\core\\tools\\datetimes.py:467\u001b[0m, in \u001b[0;36m_array_strptime_with_fallback\u001b[1;34m(arg, name, utc, fmt, exact, errors)\u001b[0m\n\u001b[0;32m    456\u001b[0m \u001b[38;5;28;01mdef\u001b[39;00m \u001b[38;5;21m_array_strptime_with_fallback\u001b[39m(\n\u001b[0;32m    457\u001b[0m     arg,\n\u001b[0;32m    458\u001b[0m     name,\n\u001b[1;32m   (...)\u001b[0m\n\u001b[0;32m    462\u001b[0m     errors: \u001b[38;5;28mstr\u001b[39m,\n\u001b[0;32m    463\u001b[0m ) \u001b[38;5;241m-\u001b[39m\u001b[38;5;241m>\u001b[39m Index:\n\u001b[0;32m    464\u001b[0m \u001b[38;5;250m    \u001b[39m\u001b[38;5;124;03m\"\"\"\u001b[39;00m\n\u001b[0;32m    465\u001b[0m \u001b[38;5;124;03m    Call array_strptime, with fallback behavior depending on 'errors'.\u001b[39;00m\n\u001b[0;32m    466\u001b[0m \u001b[38;5;124;03m    \"\"\"\u001b[39;00m\n\u001b[1;32m--> 467\u001b[0m     result, tz_out \u001b[38;5;241m=\u001b[39m array_strptime(arg, fmt, exact\u001b[38;5;241m=\u001b[39mexact, errors\u001b[38;5;241m=\u001b[39merrors, utc\u001b[38;5;241m=\u001b[39mutc)\n\u001b[0;32m    468\u001b[0m     \u001b[38;5;28;01mif\u001b[39;00m tz_out \u001b[38;5;129;01mis\u001b[39;00m \u001b[38;5;129;01mnot\u001b[39;00m \u001b[38;5;28;01mNone\u001b[39;00m:\n\u001b[0;32m    469\u001b[0m         unit \u001b[38;5;241m=\u001b[39m np\u001b[38;5;241m.\u001b[39mdatetime_data(result\u001b[38;5;241m.\u001b[39mdtype)[\u001b[38;5;241m0\u001b[39m]\n",
      "File \u001b[1;32mstrptime.pyx:501\u001b[0m, in \u001b[0;36mpandas._libs.tslibs.strptime.array_strptime\u001b[1;34m()\u001b[0m\n",
      "File \u001b[1;32mstrptime.pyx:451\u001b[0m, in \u001b[0;36mpandas._libs.tslibs.strptime.array_strptime\u001b[1;34m()\u001b[0m\n",
      "File \u001b[1;32mstrptime.pyx:583\u001b[0m, in \u001b[0;36mpandas._libs.tslibs.strptime._parse_with_format\u001b[1;34m()\u001b[0m\n",
      "\u001b[1;31mValueError\u001b[0m: time data \"2020-05-22 00:00:00\" doesn't match format \"%Y-%m-%d %H:%M:%S%z\", at position 10. You might want to try:\n    - passing `format` if your strings have a consistent format;\n    - passing `format='ISO8601'` if your strings are all ISO8601 but not necessarily in exactly the same format;\n    - passing `format='mixed'`, and the format will be inferred for each element individually. You might want to use `dayfirst` alongside this."
     ]
    }
   ],
   "source": [
    "# Convert 'date' column to datetime\n",
    "data_analyst_ratings['date'] = pd.to_datetime(data_analyst_ratings['date'])\n",
    "\n",
    "# Group data by month and count\n",
    "monthly_trends = data_analyst_ratings['date'].dt.to_period('M').value_counts().sort_index()\n",
    "\n",
    "# Plot monthly trends\n",
    "import matplotlib.pyplot as plt\n",
    "\n",
    "plt.figure(figsize=(10, 6))\n",
    "monthly_trends.plot(kind='line', marker='o')\n",
    "plt.title(\"Monthly Trends in News Publication\")\n",
    "plt.xlabel(\"Month\")\n",
    "plt.ylabel(\"Number of Articles\")\n",
    "plt.show()"
   ]
  },
  {
   "cell_type": "markdown",
   "id": "2cfa47c0-daa4-4364-992e-01cf5b4c7b24",
   "metadata": {},
   "source": [
    "Step 3: Sentiment Analysis\n",
    "Preprocess Text\n",
    "Use nltk or TextBlob for preprocessing (e.g., tokenization, stopword removal, lemmatization)."
   ]
  },
  {
   "cell_type": "code",
   "execution_count": 111,
   "id": "a3471dfb-6dd4-44db-8c25-0c5e7014e6b1",
   "metadata": {},
   "outputs": [
    {
     "name": "stdout",
     "output_type": "stream",
     "text": [
      "Requirement already satisfied: textblob in c:\\users\\user\\anaconda3\\lib\\site-packages (0.18.0.post0)\n",
      "Requirement already satisfied: nltk>=3.8 in c:\\users\\user\\anaconda3\\lib\\site-packages (from textblob) (3.8.1)\n",
      "Requirement already satisfied: click in c:\\users\\user\\anaconda3\\lib\\site-packages (from nltk>=3.8->textblob) (8.1.7)\n",
      "Requirement already satisfied: joblib in c:\\users\\user\\anaconda3\\lib\\site-packages (from nltk>=3.8->textblob) (1.4.2)\n",
      "Requirement already satisfied: regex>=2021.8.3 in c:\\users\\user\\anaconda3\\lib\\site-packages (from nltk>=3.8->textblob) (2023.10.3)\n",
      "Requirement already satisfied: tqdm in c:\\users\\user\\anaconda3\\lib\\site-packages (from nltk>=3.8->textblob) (4.66.4)\n",
      "Requirement already satisfied: colorama in c:\\users\\user\\anaconda3\\lib\\site-packages (from click->nltk>=3.8->textblob) (0.4.6)\n"
     ]
    },
    {
     "name": "stderr",
     "output_type": "stream",
     "text": [
      "[nltk_data] Downloading package stopwords to\n",
      "[nltk_data]     C:\\Users\\user\\AppData\\Roaming\\nltk_data...\n",
      "[nltk_data]   Package stopwords is already up-to-date!\n",
      "[nltk_data] Downloading package wordnet to\n",
      "[nltk_data]     C:\\Users\\user\\AppData\\Roaming\\nltk_data...\n",
      "[nltk_data]   Package wordnet is already up-to-date!\n"
     ]
    }
   ],
   "source": [
    "!pip install textblob\n",
    "import nltk\n",
    "from nltk.corpus import stopwords\n",
    "from nltk.stem import WordNetLemmatizer\n",
    "from textblob import TextBlob\n",
    "\n",
    "nltk.download('stopwords')\n",
    "nltk.download('wordnet')\n",
    "\n",
    "# Initialize lemmatizer and stopword list\n",
    "lemmatizer = WordNetLemmatizer()\n",
    "stop_words = set(stopwords.words('english'))\n",
    "\n",
    "# Preprocess text\n",
    "def preprocess_text(text):\n",
    "    tokens = text.split()\n",
    "    tokens = [word.lower() for word in tokens if word.isalpha() and word not in stop_words]\n",
    "    tokens = [lemmatizer.lemmatize(word) for word in tokens]\n",
    "    return \" \".join(tokens)\n",
    "\n",
    "data_analyst_ratings['cleaned_headline'] = data_analyst_ratings['headline'].apply(preprocess_text)"
   ]
  },
  {
   "cell_type": "markdown",
   "id": "53603ea0-8889-41a8-a9de-13728f9eef7c",
   "metadata": {},
   "source": [
    "Perform Sentiment Analysis\n",
    "Use TextBlob to assign sentiment scores."
   ]
  },
  {
   "cell_type": "code",
   "execution_count": null,
   "id": "f4785ee9-c108-4ea8-9f60-2c52318002a0",
   "metadata": {},
   "outputs": [],
   "source": [
    "# Assign sentiment polarity\n",
    "dataset['sentiment'] = dataset['cleaned_headline'].apply(lambda x: TextBlob(x).sentiment.polarity)\n",
    "\n",
    "# Categorize sentiment\n",
    "dataset['sentiment_category'] = dataset['sentiment'].apply(\n",
    "    lambda x: 'Positive' if x > 0 else ('Negative' if x < 0 else 'Neutral')\n",
    ")\n",
    "\n",
    "# Preview sentiment\n",
    "print(dataset[['headline', 'sentiment', 'sentiment_category']].head())"
   ]
  }
 ],
 "metadata": {
  "kernelspec": {
   "display_name": "Python 3 (ipykernel)",
   "language": "python",
   "name": "python3"
  },
  "language_info": {
   "codemirror_mode": {
    "name": "ipython",
    "version": 3
   },
   "file_extension": ".py",
   "mimetype": "text/x-python",
   "name": "python",
   "nbconvert_exporter": "python",
   "pygments_lexer": "ipython3",
   "version": "3.12.4"
  }
 },
 "nbformat": 4,
 "nbformat_minor": 5
}
